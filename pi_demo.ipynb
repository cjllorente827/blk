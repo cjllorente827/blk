{
 "cells": [
  {
   "cell_type": "code",
   "execution_count": 1,
   "metadata": {},
   "outputs": [],
   "source": [
    "from blk import pipeline\n",
    "import numpy as np\n",
    "from scipy.integrate import trapezoid, simpson\n",
    "import time\n"
   ]
  },
  {
   "cell_type": "code",
   "execution_count": 2,
   "metadata": {},
   "outputs": [],
   "source": [
    "def trapezoidal_pi(nsamples):\n",
    "    \n",
    "    start = time.time()\n",
    "    x_arr = np.linspace(-1, 1, nsamples, endpoint=True)\n",
    "    \n",
    "    y = lambda x : 1 / np.sqrt(1-x*x)\n",
    "    \n",
    "    y_arr = y(x_arr)\n",
    "    \n",
    "    # cap the ends since they go to infinity\n",
    "    y_arr[0] = y_arr[1] \n",
    "    y_arr[-1] = y_arr[-2] \n",
    "    \n",
    "    \n",
    "    pi = trapezoid(y_arr, x_arr)\n",
    "    \n",
    "    elapsed = time.time() - start\n",
    "    \n",
    "    return [pi, nsamples, elapsed]\n",
    "    "
   ]
  },
  {
   "cell_type": "code",
   "execution_count": 3,
   "metadata": {},
   "outputs": [],
   "source": [
    "def simpson_pi(nsamples):\n",
    "    \n",
    "    start = time.time()\n",
    "    \n",
    "    x_arr = np.linspace(-1, 1, nsamples, endpoint=True)\n",
    "    \n",
    "    y = lambda x : 1 / np.sqrt(1-x*x)\n",
    "    \n",
    "    y_arr = y(x_arr)\n",
    "    \n",
    "    # cap the ends since they go to infinity\n",
    "    y_arr[0] = y_arr[1] \n",
    "    y_arr[-1] = y_arr[-2] \n",
    "    \n",
    "    pi = simpson(y_arr, x_arr)\n",
    "    \n",
    "    elapsed = time.time() - start\n",
    "    \n",
    "    return [pi, nsamples, elapsed]"
   ]
  },
  {
   "cell_type": "code",
   "execution_count": 4,
   "metadata": {},
   "outputs": [],
   "source": [
    "def monte_carlo_integrate_pi(nsamples):\n",
    "    \n",
    "    start = time.time()\n",
    "    \n",
    "    np.random.seed(2021)\n",
    "    \n",
    "    x_domain_limits = [-1, 1]\n",
    "    y_domain_limits = [0, 10]\n",
    "    \n",
    "    full_area = (max(y_domain_limits) - min(y_domain_limits)) * (max(x_domain_limits) - min(x_domain_limits))\n",
    "    \n",
    "    y = lambda x : 1 / np.sqrt(1-x*x)\n",
    "    \n",
    "    x_values = np.random.uniform(min(x_domain_limits), max(x_domain_limits), nsamples)\n",
    "    y_values = np.random.uniform(min(y_domain_limits), max(y_domain_limits), nsamples)\n",
    "    \n",
    "    y_arr = y(x_values)\n",
    "    \n",
    "    points_below_curve = len(y_values[y_values < y_arr])\n",
    "    \n",
    "    pi = points_below_curve / nsamples * full_area\n",
    "    \n",
    "    elapsed = time.time() - start\n",
    "    \n",
    "    return pi, nsamples, elapsed\n",
    "    \n",
    "    "
   ]
  },
  {
   "cell_type": "code",
   "execution_count": 5,
   "metadata": {},
   "outputs": [],
   "source": [
    "def monte_carlo_area_pi(nsamples):\n",
    "    \n",
    "    start = time.time()\n",
    "    \n",
    "    np.random.seed(2021)\n",
    "    \n",
    "    x_domain_limits = [-1, 1]\n",
    "    y_domain_limits = [-1, 1]\n",
    "    \n",
    "    full_area = (max(y_domain_limits) - min(y_domain_limits)) * (max(x_domain_limits) - min(x_domain_limits))\n",
    "    \n",
    "    y = lambda x : 1 / np.sqrt(1-x*x)\n",
    "    \n",
    "    x_values = np.random.uniform(min(x_domain_limits), max(x_domain_limits), nsamples)\n",
    "    y_values = np.random.uniform(min(y_domain_limits), max(y_domain_limits), nsamples)\n",
    "    \n",
    "    y_arr = y(x_values)\n",
    "    \n",
    "    points_below_curve = len( y_values[np.sqrt(x_values**2 + y_values**2) < 1] )\n",
    "    \n",
    "    pi = points_below_curve / nsamples * full_area\n",
    "    \n",
    "    elapsed = time.time() - start\n",
    "    \n",
    "    return pi, nsamples, elapsed"
   ]
  },
  {
   "cell_type": "code",
   "execution_count": 6,
   "metadata": {},
   "outputs": [
    {
     "name": "stdout",
     "output_type": "stream",
     "text": [
      "(3.1449, 1000000, 0.11511421203613281)\n"
     ]
    }
   ],
   "source": [
    "N = int(1e6)\n",
    "\n",
    "#print( trapezoidal_pi(N) )\n",
    "#print( simpson_pi(N) )\n",
    "#print( monte_carlo_integrate_pi(N) )\n",
    "print( monte_carlo_area_pi(N) )\n"
   ]
  },
  {
   "cell_type": "code",
   "execution_count": null,
   "metadata": {},
   "outputs": [],
   "source": []
  },
  {
   "cell_type": "code",
   "execution_count": null,
   "metadata": {},
   "outputs": [],
   "source": []
  }
 ],
 "metadata": {
  "kernelspec": {
   "display_name": "Python 3",
   "language": "python",
   "name": "python3"
  },
  "language_info": {
   "codemirror_mode": {
    "name": "ipython",
    "version": 3
   },
   "file_extension": ".py",
   "mimetype": "text/x-python",
   "name": "python",
   "nbconvert_exporter": "python",
   "pygments_lexer": "ipython3",
   "version": "3.7.6"
  }
 },
 "nbformat": 4,
 "nbformat_minor": 4
}
